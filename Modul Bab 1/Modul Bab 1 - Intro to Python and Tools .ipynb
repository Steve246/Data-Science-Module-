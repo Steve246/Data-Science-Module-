{
 "cells": [
  {
   "cell_type": "markdown",
   "metadata": {
    "id": "pGmFnMr2x-7E"
   },
   "source": [
    "\n",
    "# **1. Basic Synthax Python**\n"
   ]
  },
  {
   "cell_type": "markdown",
   "metadata": {
    "id": "5pLHnpMqavbR"
   },
   "source": [
    "**A)** Perintah print berfungsi untuk mencetak output pada jupyter notebook. Output yang dicetak tidak terbatas pada kata-kata, biasanya print pada data science banyak digunakan untuk mencetak keluaran dari pengolahan analisa yang dilakukan pada dataset. Penulisan print dapat dilakukan dengan menuliskan perintah sesuai contoh gambar.\n",
    "\n",
    "\n",
    "```\n",
    "print(\"Isi Kalimat\")\n",
    "```\n",
    "\n"
   ]
  },
  {
   "cell_type": "code",
   "execution_count": null,
   "metadata": {
    "colab": {
     "base_uri": "https://localhost:8080/"
    },
    "executionInfo": {
     "elapsed": 16,
     "status": "ok",
     "timestamp": 1623224232390,
     "user": {
      "displayName": "Steven Jonathan",
      "photoUrl": "https://lh3.googleusercontent.com/a-/AOh14GgjLqjYluAxINvtU7rJV1VUlfeVqqmHi4lYVv0y=s64",
      "userId": "02755227233372818329"
     },
     "user_tz": -420
    },
    "id": "6bZ43EECrMEv",
    "outputId": "20036e25-2e92-4a03-f52f-5376f11cb28d"
   },
   "outputs": [
    {
     "name": "stdout",
     "output_type": "stream",
     "text": [
      "Hello World\n"
     ]
    }
   ],
   "source": [
    "print(\"Hello World\")"
   ]
  },
  {
   "cell_type": "markdown",
   "metadata": {
    "id": "9r1MKWC7AYaj"
   },
   "source": [
    "**B)** Variabel bertugas untuk menyimpan nilai, atau data yang di input. Nilai variabel dapat berubah, jika kita assign nilai pada variabel yang sama. Pada data science, variabel sangat membantu ketika kita ingin menyimpan hasil pengolahan yang ingin kita gunakan berulang kali, hal ini memudahkan kita untuk mengakses hasil pengolahan tersebut tanpa harus mengetik keseluruhan perintah. Penulisan variabel bisa dilakukan sesuai contoh gambar di bawah.\n",
    "\n",
    "\n",
    "```\n",
    "x1 = 6\n",
    "x4 = 5\n",
    "T = 7\n",
    "```\n",
    "\n",
    "Buatlah suatu variabel yang menyimpan nilai, dan *print* isi dari variabel untuk mengetahui nilai di dalemnya."
   ]
  },
  {
   "cell_type": "code",
   "execution_count": 1,
   "metadata": {
    "colab": {
     "base_uri": "https://localhost:8080/"
    },
    "executionInfo": {
     "elapsed": 17,
     "status": "ok",
     "timestamp": 1623229380846,
     "user": {
      "displayName": "Steven Jonathan",
      "photoUrl": "https://lh3.googleusercontent.com/a-/AOh14GgjLqjYluAxINvtU7rJV1VUlfeVqqmHi4lYVv0y=s64",
      "userId": "02755227233372818329"
     },
     "user_tz": -420
    },
    "id": "5t8zuP-kAXwB",
    "outputId": "e2979064-90ac-4f46-925e-1fd966131b2f"
   },
   "outputs": [
    {
     "name": "stdout",
     "output_type": "stream",
     "text": [
      "7\n",
      "Ada Apa\n"
     ]
    }
   ],
   "source": [
    "alpha = 7\n",
    "\n",
    "romeo = \"Ada Apa\"\n",
    "\n",
    "print(alpha)\n",
    "print(romeo)\n",
    "\n"
   ]
  },
  {
   "cell_type": "markdown",
   "metadata": {
    "id": "SnEp0RaQAw9N"
   },
   "source": [
    "**C)** Python juga dapat melakukan operasi matematika seperti, penambahan, pengurangan, dan perkalian pada angka seperti contoh yang diberikan. Pada data science, ini sangat berguna untuk membuat rumus-rumus matematika, seperti mencari nilai rata-rata (mean). Contoh pengunaan dapat dilihat pada gambar dibawah.\n",
    "\n",
    "\n",
    "```\n",
    "x1 = 7\n",
    "x2 = 6\n",
    "\n",
    "print(x1 + x2) // 6 + 7 = 13\n",
    "print(x1 * x2) // 7 * 6 = 42\n",
    "print(x1 - x2) // 7 - 6 = 1\n",
    "```\n",
    "Buatlah 2 variabel yang berisi nilai, kemudian lakukan *print* operasi pertambahan, perkalian, dan pengurangan pada kedua variabel. "
   ]
  },
  {
   "cell_type": "code",
   "execution_count": null,
   "metadata": {
    "colab": {
     "base_uri": "https://localhost:8080/"
    },
    "executionInfo": {
     "elapsed": 353,
     "status": "ok",
     "timestamp": 1623229492206,
     "user": {
      "displayName": "Steven Jonathan",
      "photoUrl": "https://lh3.googleusercontent.com/a-/AOh14GgjLqjYluAxINvtU7rJV1VUlfeVqqmHi4lYVv0y=s64",
      "userId": "02755227233372818329"
     },
     "user_tz": -420
    },
    "id": "iSGLdvucA2qd",
    "outputId": "1bbf2de7-02b0-4e02-b4c4-e76d61808254"
   },
   "outputs": [
    {
     "name": "stdout",
     "output_type": "stream",
     "text": [
      "9\n",
      "240\n",
      "2\n"
     ]
    }
   ],
   "source": [
    "x1 = 7\n",
    "x2 = 6\n",
    " \n",
    "print(x1 + x2) // 6 + 7 = 13\n",
    "print(x1 * x2) // 7 * 6 = 42\n",
    "print(x1 - x2) // 7 - 6 = 1"
   ]
  },
  {
   "cell_type": "markdown",
   "metadata": {
    "id": "IGrW238pyiSl"
   },
   "source": [
    "# **2. Data Structure pada Python**"
   ]
  },
  {
   "cell_type": "markdown",
   "metadata": {
    "id": "F0AC2QqTylX1"
   },
   "source": [
    "**A)** Numerik adalah tipe data structure yang terdiri dari 3 hal, yaitu integers, float, dan complex. Kita dapat mengetahui tipe data dari suatu variable dengan menuliskan kode sebagai berikut.\n",
    "\n",
    "\n",
    "```\n",
    "type(variable)\n",
    "```\n",
    "```\n",
    "float(variable)\n",
    "```\n",
    "Buatlah tiga variabel, mas.\n"
   ]
  },
  {
   "cell_type": "code",
   "execution_count": 5,
   "metadata": {
    "colab": {
     "base_uri": "https://localhost:8080/"
    },
    "executionInfo": {
     "elapsed": 339,
     "status": "ok",
     "timestamp": 1623595104567,
     "user": {
      "displayName": "Steven Jonathan",
      "photoUrl": "https://lh3.googleusercontent.com/a-/AOh14GgjLqjYluAxINvtU7rJV1VUlfeVqqmHi4lYVv0y=s64",
      "userId": "02755227233372818329"
     },
     "user_tz": -420
    },
    "id": "bftOUh7OymFL",
    "outputId": "8204204e-332e-4fb4-cc41-f979437caf02"
   },
   "outputs": [
    {
     "name": "stdout",
     "output_type": "stream",
     "text": [
      "<class 'complex'>\n",
      "<class 'int'>\n",
      "<class 'float'>\n"
     ]
    }
   ],
   "source": [
    "a = 10 + 3j \n",
    "print(type(a))\n",
    "\n",
    "b = 20 \n",
    "print(type(b))\n",
    "\n",
    "d = float(b)\n",
    "print(type(d))\n"
   ]
  },
  {
   "cell_type": "markdown",
   "metadata": {
    "id": "-jIzSAZ309Ws"
   },
   "source": [
    "**B)** Bool adalah tipe data structure yang hanya mempunyai 2 nilai konstan, antara True atau False. Mengetahui suatu variabel adalah *True* atau *False* , atau tipe variable tersebut adalah *bool* dapat dihasilkan dengan contoh sebagai berikut.\n",
    "\n",
    "\n",
    "```\n",
    "x2 = type(True) // akan dihasilkan tipe variabel True, dengan  *bool*\n",
    "\n",
    "Test1 = 1 == 1 // akan dihasilkan *True*, karena variabel memiliki hasil yang sama\n",
    "\n",
    "```\n",
    "Buatlah suatu variabel x1, berisi tipe data *false* dan *print* hasilnya. Kemudian buatlah suatu variabel yang membandingkan dua angka, dan menghasilkan nilai *False*\n"
   ]
  },
  {
   "cell_type": "code",
   "execution_count": 6,
   "metadata": {
    "colab": {
     "base_uri": "https://localhost:8080/"
    },
    "executionInfo": {
     "elapsed": 308,
     "status": "ok",
     "timestamp": 1623596255829,
     "user": {
      "displayName": "Steven Jonathan",
      "photoUrl": "https://lh3.googleusercontent.com/a-/AOh14GgjLqjYluAxINvtU7rJV1VUlfeVqqmHi4lYVv0y=s64",
      "userId": "02755227233372818329"
     },
     "user_tz": -420
    },
    "id": "qnDZO6uM2BSk",
    "outputId": "dca9731c-6279-4f18-be46-91acf27d8bb2"
   },
   "outputs": [
    {
     "name": "stdout",
     "output_type": "stream",
     "text": [
      "<class 'bool'>\n",
      "<class 'bool'>\n",
      "True\n",
      "False\n"
     ]
    }
   ],
   "source": [
    "x1 = type(False)\n",
    "print( x1)\n",
    "\n",
    "x2 = type(True)\n",
    "print( x2)\n",
    "\n",
    "Test1 = 1 == 1\n",
    "print( Test1)\n",
    "\n",
    "Test2 = 1 == 4\n",
    "print( Test2)\n"
   ]
  },
  {
   "cell_type": "markdown",
   "metadata": {
    "id": "FWstgOIt5gmW"
   },
   "source": [
    "**C)** List adalah kumpulan order sequence, artinya dia adalah jenis variabel kumpulan data yang terurut. List dapat diakses dengan menuliskan angka untuk mengetahui elemen yang disimpan, elemen pada List dapat diubah setelah di *declare*. Penulisan dilakukan dengan memberikan variabel, suatu simbol [ ] seperti contoh dibawah.\n",
    "\n",
    "\n",
    "\n",
    "```\n",
    "x = [5, 10, 15]\n",
    "print(x[0]) // ketika di print akan menghasilkan nilai 5\n",
    "print(x[-1]) // ketika di print akan menghasilkan nilai 15\n",
    "print(x[0:2]) // ketika di print akan menghasilkan nilai 5, dan nilai 10\n",
    "\n",
    "x[2] = 10\n",
    "print(x) // akan dihasilkan [5, 10, 10]\n",
    "```\n",
    "\n",
    "Buatlah suatu variabel bernama x, yang berisi 5,10,15,20,25,30,35,40. Kemudian tampilkan elemen awal, elemen paling belakang, dan elemen yang ada di elemen 3 dan 5."
   ]
  },
  {
   "cell_type": "code",
   "execution_count": 9,
   "metadata": {
    "id": "aTaBd4-P5hWk"
   },
   "outputs": [
    {
     "name": "stdout",
     "output_type": "stream",
     "text": [
      "5\n",
      "35\n",
      "[20, 25]\n"
     ]
    }
   ],
   "source": [
    "x = [5,10,15,20,25,30,35,40]\n",
    "print(x[0])\n",
    "print(x[-2]) \n",
    "print(x[3:5]) "
   ]
  },
  {
   "cell_type": "markdown",
   "metadata": {
    "id": "r1UiwkvT6AjV"
   },
   "source": [
    "**D)** Tuple adalah jenis dari List, tapi tidak bisa mengubah elemen yang ada . Penulisan Tuple dilakukan dengan memberikan variabel suatu dengan simbol ( ) seperti contoh dibawah. Tuple tidak memiliki kemampuan untuk mengganti isi variabel dari element yang sudah di *declare* sebelumnya.\n",
    "\n",
    "\n",
    "\n",
    "```\n",
    "t = (5,'program', 1+3j)\n",
    "print(t[1]) // ketika di print akan menghasilkan kalimat \"program\"\n",
    "print(t[0:3]) // ketika di print akan menghasilkan kalimat \"(5, 'program', (1+3j))\"\n",
    "```\n",
    "\n",
    "Buatlah suatu variabel t berjenis tuple yang berisi \"empat\", \"lima\", dan 3. Kemudian tampilkan elemen pertama, dan elemen diantara pertama dan ketiga.\n"
   ]
  },
  {
   "cell_type": "code",
   "execution_count": 10,
   "metadata": {
    "colab": {
     "base_uri": "https://localhost:8080/"
    },
    "executionInfo": {
     "elapsed": 326,
     "status": "ok",
     "timestamp": 1623596896137,
     "user": {
      "displayName": "Steven Jonathan",
      "photoUrl": "https://lh3.googleusercontent.com/a-/AOh14GgjLqjYluAxINvtU7rJV1VUlfeVqqmHi4lYVv0y=s64",
      "userId": "02755227233372818329"
     },
     "user_tz": -420
    },
    "id": "w1bbPCRf58r9",
    "outputId": "657e23d3-8260-4823-cd94-ad8c94616932"
   },
   "outputs": [
    {
     "name": "stdout",
     "output_type": "stream",
     "text": [
      "empat\n",
      "('empat', 'lima')\n"
     ]
    }
   ],
   "source": [
    "t = (\"empat\", \"lima\", 3)\n",
    "print(t[0])\n",
    "print(t[0:2])\n"
   ]
  },
  {
   "cell_type": "markdown",
   "metadata": {
    "id": "AoOINSWy8drX"
   },
   "source": [
    "**E)** Set adalah kumpulan unordered collection, keunikan set adalah data bisa digabungkan dengan operasi sederhana seperti contoh yang diberikan. Terdapat 4 operasi sederhana yaitu Union, Intersection, Different, Symmetrical Different. Penulisan set dilakukan dengan memberikan simbol {}, seperti contoh dibawah.\n",
    "\n",
    "\n",
    "\n",
    "```\n",
    "A = {0, 2, 4, 6, 8};\n",
    "B = {1, 2, 3, 4, 5};\n",
    "  \n",
    "# union\n",
    "print(\"Union :\", A | B) // Union : {0, 1, 2, 3, 4, 5, 6, 8}\n",
    "  \n",
    "# intersection\n",
    "print(\"Intersection :\", A & B) // Intersection : {2, 4}\n",
    "  \n",
    "# difference\n",
    "print(\"Difference :\", A - B) // Difference : {0, 8, 6}\n",
    "  \n",
    "# symmetric difference\n",
    "print(\"Symmetric difference :\", A ^ B) // \n",
    "Symmetric difference : {0, 1, 3, 5, 6, 8}\n",
    "```\n",
    "Buatlah suatu variabel A berjenis tuple, pada variabel tersebut berisi 0, 4, 4, 5, dan 8. Kemudian variabel B berjenis tuple, pada variable tersebut berisi 1, 10, 2, 4, dan 5. Carilah union, intersection, difference, dan symetric difference.\n",
    "\n"
   ]
  },
  {
   "cell_type": "code",
   "execution_count": 1,
   "metadata": {
    "colab": {
     "base_uri": "https://localhost:8080/"
    },
    "executionInfo": {
     "elapsed": 21,
     "status": "ok",
     "timestamp": 1624959292548,
     "user": {
      "displayName": "Steven Jonathan",
      "photoUrl": "https://lh3.googleusercontent.com/a-/AOh14GgjLqjYluAxINvtU7rJV1VUlfeVqqmHi4lYVv0y=s64",
      "userId": "02755227233372818329"
     },
     "user_tz": -420
    },
    "id": "_1tCvX7n6290",
    "outputId": "0ad32ebd-faa7-4a26-ac0b-94a66a70b8d6"
   },
   "outputs": [
    {
     "name": "stdout",
     "output_type": "stream",
     "text": [
      "Union : {0, 1, 2, 4, 5, 8, 10}\n",
      "Intersection : {4, 5}\n",
      "Difference : {0, 8}\n",
      "Symmetric difference : {0, 1, 2, 8, 10}\n"
     ]
    }
   ],
   "source": [
    "A = {0, 4, 4, 5, 8};\n",
    "B = {1, 10, 2, 4, 5};\n",
    "  \n",
    "# union\n",
    "print(\"Union :\", A | B)\n",
    "  \n",
    "# intersection\n",
    "print(\"Intersection :\", A & B)\n",
    "  \n",
    "# difference\n",
    "print(\"Difference :\", A - B)\n",
    "  \n",
    "# symmetric difference\n",
    "print(\"Symmetric difference :\", A ^ B)"
   ]
  },
  {
   "cell_type": "markdown",
   "metadata": {
    "id": "n4o4ZJgCUCoV"
   },
   "source": [
    "**F)** Dictionary adalah kumpulan pasangan kunci dan nilai yang tidak harus berurutan. Dictionary dapat digunakan untuk menyimpan data kecil hingga besar, untuk mengakses data kita harus mengetahui kuncinya seperti contoh yang diberikan\n",
    "\n",
    "\n",
    "\n",
    "```\n",
    "d = {1:'Ini adalah satu','key':\"Ini adalah kunci\"}\n",
    "print(d['key']) // Ini adalah satu\n",
    "print(d[1]) // Ini adalah kunci\n",
    "```\n",
    "Buatlah suatu variabel bernama d, d akan berisi kunci 1 dengan nilai \"ini adalah satu\", dan kunci key dengan nilai \"ini adalah kunci\". Kemudian *print* hasil tipe dari variabel d, dan elemen pertama variabel d\n"
   ]
  },
  {
   "cell_type": "code",
   "execution_count": 2,
   "metadata": {
    "colab": {
     "base_uri": "https://localhost:8080/"
    },
    "executionInfo": {
     "elapsed": 420,
     "status": "ok",
     "timestamp": 1623855307812,
     "user": {
      "displayName": "Steven Jonathan",
      "photoUrl": "https://lh3.googleusercontent.com/a-/AOh14GgjLqjYluAxINvtU7rJV1VUlfeVqqmHi4lYVv0y=s64",
      "userId": "02755227233372818329"
     },
     "user_tz": -420
    },
    "id": "OIoPFf4qUDYa",
    "outputId": "b9c22565-cd8a-42c6-c3cb-96dd2d3bcd7c"
   },
   "outputs": [
    {
     "name": "stdout",
     "output_type": "stream",
     "text": [
      "Keluarkan 30\n",
      "Kunci akan membuka pintu\n"
     ]
    }
   ],
   "source": [
    "d = {30:\"Keluarkan 30\",'kata kunci':\"Kunci akan membuka pintu\"}\n",
    "print(d[30])\n",
    "print(d['kata kunci'])"
   ]
  },
  {
   "cell_type": "markdown",
   "metadata": {
    "id": "xIFnRJFW1aVv"
   },
   "source": [
    "#Control Flow dan Fungsi"
   ]
  },
  {
   "cell_type": "markdown",
   "metadata": {
    "id": "3o9NNrLn2o1f"
   },
   "source": [
    "**A)** Control Flow pada Python merupakan cara operasi logika dapat dilakukan pada input, ataupun data yang diberikan pada program. *Control flow* pada Python dimulai dari If, elif (else-if), dan else jika pilihan tersebut adalah opsi terakhir. Penulisah dilakukan dengan contoh sebagai berikut.\n",
    "\n",
    "\n",
    "```\n",
    "\n",
    "if nilai>80:\n",
    "   print(\"Selamat! Anda mendapat nilai A\") \n",
    "   \n",
    "elif nilai>70:\n",
    "   print(\"Selamat! Anda mendapat nilai B\")\n",
    "   \n",
    "elif nilai>60:\n",
    "   print(\"Selamat! Anda mendapat nilai C\")\n",
    "   \n",
    "else:\n",
    "   print(\"Selamat! Anda mendapat nilai D\")\n",
    "   \n",
    "```\n",
    "Ketika input bernilai 65, maka Python akan *print* Selamat! Anda mendapat nilai C. \n",
    "\n",
    "Buatlah suatu variabel bernama Nilai, yang berisi 70. Program akan memiliki kondisi, jika dia lebih besar dari 80 akan mendapat nilai A, jika dia lebih besar dari 60 akan mendapat nilai C. Jika tidak memenuhi keduanya akan mendapat keterangan gagal. Program harus menampilkan “Anda mendapat Nilai C” sebagai output\n",
    "\n",
    "\n"
   ]
  },
  {
   "cell_type": "code",
   "execution_count": 14,
   "metadata": {
    "colab": {
     "base_uri": "https://localhost:8080/"
    },
    "executionInfo": {
     "elapsed": 5460,
     "status": "ok",
     "timestamp": 1624959933250,
     "user": {
      "displayName": "Steven Jonathan",
      "photoUrl": "https://lh3.googleusercontent.com/a-/AOh14GgjLqjYluAxINvtU7rJV1VUlfeVqqmHi4lYVv0y=s64",
      "userId": "02755227233372818329"
     },
     "user_tz": -420
    },
    "id": "FVtvucij2qUc",
    "outputId": "144711f9-b2f4-46af-9d1f-d808d0d7f1e4"
   },
   "outputs": [
    {
     "name": "stdout",
     "output_type": "stream",
     "text": [
      " Anda mendapat nilai C\n"
     ]
    }
   ],
   "source": [
    "nilai = 70\n",
    "\n",
    "if nilai>80:\n",
    "   print(\"Anda mendapat nilai A\")\n",
    "   \n",
    "elif nilai>60:\n",
    "   print(\" Anda mendapat nilai C\")\n",
    "   \n",
    "else:\n",
    "   print(\"Gagal\")\n",
    "   "
   ]
  },
  {
   "cell_type": "markdown",
   "metadata": {
    "id": "29nlR0nP3M9M"
   },
   "source": [
    "**B)** Perulangan pada Python dapat dilakukan dengan memakai For atau While, For sering digunakan untuk melakukan looping pada data structure. Pada contoh yang diberikan kita melakukan looping dengan for sehingga menghasilkan *output*. \n",
    "\n",
    "\n",
    "```\n",
    "flowers = ['mawar', 'melati', 'anggrek']\n",
    "for flower in flowers:  # Contoh kedua\n",
    "    print(\"Flower ini bernama \", flower)\n",
    "```\n",
    "Buatlah suatu variabel bernama flowers, variabel tersebut adalah list yang berisi isian sebagai berikut, sunflower, melati, dan anggrek. Kemudian lakukan looping pada bunga, dan print hasil setiap looping terjadi. Program harus mengeluarkan isian pada variabel flower, menggunakan for.\n",
    "\n"
   ]
  },
  {
   "cell_type": "code",
   "execution_count": 17,
   "metadata": {
    "colab": {
     "base_uri": "https://localhost:8080/"
    },
    "executionInfo": {
     "elapsed": 333,
     "status": "ok",
     "timestamp": 1623680022274,
     "user": {
      "displayName": "Steven Jonathan",
      "photoUrl": "https://lh3.googleusercontent.com/a-/AOh14GgjLqjYluAxINvtU7rJV1VUlfeVqqmHi4lYVv0y=s64",
      "userId": "02755227233372818329"
     },
     "user_tz": -420
    },
    "id": "dkrk8obE3Vs9",
    "outputId": "67f46273-f91c-4f1d-d668-1fd5ee4f0a50"
   },
   "outputs": [
    {
     "name": "stdout",
     "output_type": "stream",
     "text": [
      "sunflower\n",
      "melati\n",
      "anggrek\n"
     ]
    }
   ],
   "source": [
    "flowers = ['sunflower', 'melati', 'anggrek']\n",
    "for x in flowers:  # Contoh kedua\n",
    "    print(x)"
   ]
  },
  {
   "cell_type": "markdown",
   "metadata": {
    "id": "RXoG_x-S3hhu"
   },
   "source": [
    "**C)** While digunakan untuk melakukan *looping*, dan mengeksekusi statement jika keinginannya terpenuhi awalnya terpenuhi. While dapat ditulis dengan contoh pada gambar.\n",
    "\n",
    "\n",
    "```\n",
    "count = 0\n",
    "while (count < 7):\n",
    "    print(\"Looping nomor \", count)\n",
    "    count = count + 1\n",
    "```\n",
    "\n",
    "Buatlah suatu variabel bernama d, yang berisi nilai 0. Kemudian gunakan while untuk melakukan incremental hingga nilai menjadi 6 pada nilai di dalam variabel d dengan While, pada setiap pertambahan nilai print hasilnya. Program akan mengeluarkan setiap perubahan angka pada d, dimulai dari 0 hingga 6 secara berurutan."
   ]
  },
  {
   "cell_type": "code",
   "execution_count": 18,
   "metadata": {
    "colab": {
     "base_uri": "https://localhost:8080/"
    },
    "executionInfo": {
     "elapsed": 324,
     "status": "ok",
     "timestamp": 1624960976976,
     "user": {
      "displayName": "Steven Jonathan",
      "photoUrl": "https://lh3.googleusercontent.com/a-/AOh14GgjLqjYluAxINvtU7rJV1VUlfeVqqmHi4lYVv0y=s64",
      "userId": "02755227233372818329"
     },
     "user_tz": -420
    },
    "id": "evR4HKiI3elF",
    "outputId": "d5c1abb0-d6c1-4a60-d491-c8e316af753e"
   },
   "outputs": [
    {
     "name": "stdout",
     "output_type": "stream",
     "text": [
      "0\n",
      "1\n",
      "2\n",
      "3\n",
      "4\n",
      "5\n",
      "6\n"
     ]
    }
   ],
   "source": [
    "d = 0\n",
    "while (d < 7):\n",
    "    print(d)\n",
    "    d = d + 1"
   ]
  },
  {
   "cell_type": "markdown",
   "metadata": {
    "id": "32v_6UmNEFN7"
   },
   "source": [
    "Pertanyaan 1"
   ]
  },
  {
   "cell_type": "code",
   "execution_count": 28,
   "metadata": {
    "colab": {
     "base_uri": "https://localhost:8080/"
    },
    "executionInfo": {
     "elapsed": 4841,
     "status": "ok",
     "timestamp": 1623851315696,
     "user": {
      "displayName": "Steven Jonathan",
      "photoUrl": "https://lh3.googleusercontent.com/a-/AOh14GgjLqjYluAxINvtU7rJV1VUlfeVqqmHi4lYVv0y=s64",
      "userId": "02755227233372818329"
     },
     "user_tz": -420
    },
    "id": "R4BYisjYEJ2m",
    "outputId": "418cb829-53b9-4d5c-99ce-f8f0c5c82690"
   },
   "outputs": [
    {
     "name": "stdout",
     "output_type": "stream",
     "text": [
      "The temperature in Celsius is 10 degrees.\n"
     ]
    }
   ],
   "source": [
    "degree = 50\n",
    "simbol = 'F'\n",
    "\n",
    "if simbol == \"C\":\n",
    "  Hasil = int(round((9 * degree) / 5 + 32))\n",
    "  Simbol = \"Farenheit\"\n",
    "elif simbol == \"F\":\n",
    "  Hasil = int(round((degree - 32) * 5 / 9))\n",
    "  Simbol = \"Celsius\"\n",
    "else:\n",
    "  print(\"Penamaan tidak dapat dikonversi\")\n",
    "\n",
    "print(\"The temperature in\", Simbol, \"is\", Hasil, \"degrees.\")"
   ]
  },
  {
   "cell_type": "markdown",
   "metadata": {
    "id": "zEwekF2GFPU6"
   },
   "source": [
    "Pertanyaan 2"
   ]
  },
  {
   "cell_type": "code",
   "execution_count": 4,
   "metadata": {
    "colab": {
     "base_uri": "https://localhost:8080/"
    },
    "executionInfo": {
     "elapsed": 389,
     "status": "ok",
     "timestamp": 1623851421233,
     "user": {
      "displayName": "Steven Jonathan",
      "photoUrl": "https://lh3.googleusercontent.com/a-/AOh14GgjLqjYluAxINvtU7rJV1VUlfeVqqmHi4lYVv0y=s64",
      "userId": "02755227233372818329"
     },
     "user_tz": -420
    },
    "id": "awl0iewBFQjp",
    "outputId": "04423540-b7ad-4c60-dbf0-3180015ba24e"
   },
   "outputs": [
    {
     "name": "stdout",
     "output_type": "stream",
     "text": [
      "32.78 <class 'float'>\n",
      "(3+9j) <class 'complex'>\n",
      "False <class 'bool'>\n",
      "Ini adala Text <class 'str'>\n"
     ]
    }
   ],
   "source": [
    "List = [32.78, 3+9j, False, \"Ini adala Text\"]\n",
    "for item in List:\n",
    "   print (item, type(item))"
   ]
  }
 ],
 "metadata": {
  "colab": {
   "authorship_tag": "ABX9TyPaiiBwwb6aGRGGGG8ZOLk8",
   "name": "Modul Bab 1 - Intro to Python and Tools .ipynb",
   "provenance": []
  },
  "kernelspec": {
   "display_name": "Python 3",
   "language": "python",
   "name": "python3"
  },
  "language_info": {
   "codemirror_mode": {
    "name": "ipython",
    "version": 3
   },
   "file_extension": ".py",
   "mimetype": "text/x-python",
   "name": "python",
   "nbconvert_exporter": "python",
   "pygments_lexer": "ipython3",
   "version": "3.8.8"
  }
 },
 "nbformat": 4,
 "nbformat_minor": 1
}
