{
 "cells": [
  {
   "cell_type": "markdown",
   "metadata": {
    "id": "QoJ6Xhw5N0GM"
   },
   "source": [
    "# Setup"
   ]
  },
  {
   "cell_type": "markdown",
   "metadata": {
    "id": "Pgbv_TagO0qz"
   },
   "source": [
    "**A)** *import* *library* bernama pandas sebagai pd, dan *import* *library* bernama numpy sebagai np. Kemudian *import* *library* bernama matplotlib.pyplot sebagai plt"
   ]
  },
  {
   "cell_type": "code",
   "execution_count": 1,
   "metadata": {
    "id": "a86n5UsiHjkT"
   },
   "outputs": [],
   "source": [
    "import pandas as pd\n",
    "import numpy as np\n",
    "import matplotlib.pyplot as plt"
   ]
  },
  {
   "cell_type": "markdown",
   "metadata": {
    "id": "q4rvAcnIN6VS"
   },
   "source": [
    "**B)** *data source*: https://www.kaggle.com/statsakash/used-car-price-prediction\n",
    "\n",
    "Uduh *data source* kemudian import kedalam Python. Gunakan fungsi pandas sesuai gambar di bawah untuk membaca *dataset*, dan masukan kedalam variabel df. Jangan lupa untuk menambahkan headers pada dataset\n",
    "```\n",
    "pd.read_csv(dataset_path, names)\n",
    "```\n",
    "Gunakan fungsi *head* pada pandas sesuai gambar di bawah, untuk membaca lima data pertama."
   ]
  },
  {
   "cell_type": "code",
   "execution_count": 2,
   "metadata": {
    "id": "ENhUSWqaN6di"
   },
   "outputs": [
    {
     "data": {
      "text/html": [
       "<div>\n",
       "<style scoped>\n",
       "    .dataframe tbody tr th:only-of-type {\n",
       "        vertical-align: middle;\n",
       "    }\n",
       "\n",
       "    .dataframe tbody tr th {\n",
       "        vertical-align: top;\n",
       "    }\n",
       "\n",
       "    .dataframe thead th {\n",
       "        text-align: right;\n",
       "    }\n",
       "</style>\n",
       "<table border=\"1\" class=\"dataframe\">\n",
       "  <thead>\n",
       "    <tr style=\"text-align: right;\">\n",
       "      <th></th>\n",
       "      <th>symboling</th>\n",
       "      <th>normalized-losses</th>\n",
       "      <th>make</th>\n",
       "      <th>aspiration</th>\n",
       "      <th>num-of-doors</th>\n",
       "      <th>body-style</th>\n",
       "      <th>drive-wheels</th>\n",
       "      <th>engine-location</th>\n",
       "      <th>wheel-base</th>\n",
       "      <th>length</th>\n",
       "      <th>...</th>\n",
       "      <th>compression-ratio</th>\n",
       "      <th>horsepower</th>\n",
       "      <th>peak-rpm</th>\n",
       "      <th>city-mpg</th>\n",
       "      <th>highway-mpg</th>\n",
       "      <th>price</th>\n",
       "      <th>city-L/100km</th>\n",
       "      <th>horsepower-binned</th>\n",
       "      <th>diesel</th>\n",
       "      <th>gas</th>\n",
       "    </tr>\n",
       "  </thead>\n",
       "  <tbody>\n",
       "    <tr>\n",
       "      <th>0</th>\n",
       "      <td>3</td>\n",
       "      <td>122</td>\n",
       "      <td>alfa-romero</td>\n",
       "      <td>std</td>\n",
       "      <td>two</td>\n",
       "      <td>convertible</td>\n",
       "      <td>rwd</td>\n",
       "      <td>front</td>\n",
       "      <td>88.6</td>\n",
       "      <td>0.811148</td>\n",
       "      <td>...</td>\n",
       "      <td>9.0</td>\n",
       "      <td>111.0</td>\n",
       "      <td>5000.0</td>\n",
       "      <td>21</td>\n",
       "      <td>27</td>\n",
       "      <td>13495.0</td>\n",
       "      <td>11.190476</td>\n",
       "      <td>Medium</td>\n",
       "      <td>0</td>\n",
       "      <td>1</td>\n",
       "    </tr>\n",
       "    <tr>\n",
       "      <th>1</th>\n",
       "      <td>3</td>\n",
       "      <td>122</td>\n",
       "      <td>alfa-romero</td>\n",
       "      <td>std</td>\n",
       "      <td>two</td>\n",
       "      <td>convertible</td>\n",
       "      <td>rwd</td>\n",
       "      <td>front</td>\n",
       "      <td>88.6</td>\n",
       "      <td>0.811148</td>\n",
       "      <td>...</td>\n",
       "      <td>9.0</td>\n",
       "      <td>111.0</td>\n",
       "      <td>5000.0</td>\n",
       "      <td>21</td>\n",
       "      <td>27</td>\n",
       "      <td>16500.0</td>\n",
       "      <td>11.190476</td>\n",
       "      <td>Medium</td>\n",
       "      <td>0</td>\n",
       "      <td>1</td>\n",
       "    </tr>\n",
       "    <tr>\n",
       "      <th>2</th>\n",
       "      <td>1</td>\n",
       "      <td>122</td>\n",
       "      <td>alfa-romero</td>\n",
       "      <td>std</td>\n",
       "      <td>two</td>\n",
       "      <td>hatchback</td>\n",
       "      <td>rwd</td>\n",
       "      <td>front</td>\n",
       "      <td>94.5</td>\n",
       "      <td>0.822681</td>\n",
       "      <td>...</td>\n",
       "      <td>9.0</td>\n",
       "      <td>154.0</td>\n",
       "      <td>5000.0</td>\n",
       "      <td>19</td>\n",
       "      <td>26</td>\n",
       "      <td>16500.0</td>\n",
       "      <td>12.368421</td>\n",
       "      <td>Medium</td>\n",
       "      <td>0</td>\n",
       "      <td>1</td>\n",
       "    </tr>\n",
       "    <tr>\n",
       "      <th>3</th>\n",
       "      <td>2</td>\n",
       "      <td>164</td>\n",
       "      <td>audi</td>\n",
       "      <td>std</td>\n",
       "      <td>four</td>\n",
       "      <td>sedan</td>\n",
       "      <td>fwd</td>\n",
       "      <td>front</td>\n",
       "      <td>99.8</td>\n",
       "      <td>0.848630</td>\n",
       "      <td>...</td>\n",
       "      <td>10.0</td>\n",
       "      <td>102.0</td>\n",
       "      <td>5500.0</td>\n",
       "      <td>24</td>\n",
       "      <td>30</td>\n",
       "      <td>13950.0</td>\n",
       "      <td>9.791667</td>\n",
       "      <td>Medium</td>\n",
       "      <td>0</td>\n",
       "      <td>1</td>\n",
       "    </tr>\n",
       "    <tr>\n",
       "      <th>4</th>\n",
       "      <td>2</td>\n",
       "      <td>164</td>\n",
       "      <td>audi</td>\n",
       "      <td>std</td>\n",
       "      <td>four</td>\n",
       "      <td>sedan</td>\n",
       "      <td>4wd</td>\n",
       "      <td>front</td>\n",
       "      <td>99.4</td>\n",
       "      <td>0.848630</td>\n",
       "      <td>...</td>\n",
       "      <td>8.0</td>\n",
       "      <td>115.0</td>\n",
       "      <td>5500.0</td>\n",
       "      <td>18</td>\n",
       "      <td>22</td>\n",
       "      <td>17450.0</td>\n",
       "      <td>13.055556</td>\n",
       "      <td>Medium</td>\n",
       "      <td>0</td>\n",
       "      <td>1</td>\n",
       "    </tr>\n",
       "  </tbody>\n",
       "</table>\n",
       "<p>5 rows × 29 columns</p>\n",
       "</div>"
      ],
      "text/plain": [
       "   symboling  normalized-losses         make aspiration num-of-doors  \\\n",
       "0          3                122  alfa-romero        std          two   \n",
       "1          3                122  alfa-romero        std          two   \n",
       "2          1                122  alfa-romero        std          two   \n",
       "3          2                164         audi        std         four   \n",
       "4          2                164         audi        std         four   \n",
       "\n",
       "    body-style drive-wheels engine-location  wheel-base    length  ...  \\\n",
       "0  convertible          rwd           front        88.6  0.811148  ...   \n",
       "1  convertible          rwd           front        88.6  0.811148  ...   \n",
       "2    hatchback          rwd           front        94.5  0.822681  ...   \n",
       "3        sedan          fwd           front        99.8  0.848630  ...   \n",
       "4        sedan          4wd           front        99.4  0.848630  ...   \n",
       "\n",
       "   compression-ratio  horsepower  peak-rpm city-mpg highway-mpg    price  \\\n",
       "0                9.0       111.0    5000.0       21          27  13495.0   \n",
       "1                9.0       111.0    5000.0       21          27  16500.0   \n",
       "2                9.0       154.0    5000.0       19          26  16500.0   \n",
       "3               10.0       102.0    5500.0       24          30  13950.0   \n",
       "4                8.0       115.0    5500.0       18          22  17450.0   \n",
       "\n",
       "  city-L/100km  horsepower-binned  diesel  gas  \n",
       "0    11.190476             Medium       0    1  \n",
       "1    11.190476             Medium       0    1  \n",
       "2    12.368421             Medium       0    1  \n",
       "3     9.791667             Medium       0    1  \n",
       "4    13.055556             Medium       0    1  \n",
       "\n",
       "[5 rows x 29 columns]"
      ]
     },
     "execution_count": 2,
     "metadata": {},
     "output_type": "execute_result"
    }
   ],
   "source": [
    "path= r\"automobileEDA.csv\"\n",
    "\n",
    "\n",
    "df = pd.read_csv(path)\n",
    "\n",
    "df.head(5)"
   ]
  },
  {
   "cell_type": "markdown",
   "metadata": {
    "id": "w_AMcvr1N7vy"
   },
   "source": [
    "# Linear Regression"
   ]
  },
  {
   "cell_type": "markdown",
   "metadata": {
    "id": "QGeDzsF4Pjxh"
   },
   "source": [
    "**A)** Salah satu contoh Model Data yang akan kita gunakan adalah regresi linier. Regresi linier adalah metode untuk membantu kita memahami hubungan antara dua variabel, \n",
    "\n",
    "1. Variabel prediktor/independen (X)\n",
    "2. Respons/variabel dependen (yang ingin kita prediksi)(Y)\n",
    "\n",
    "Hasil dari Regresi Linier adalah fungsi linier yang memprediksi variabel respon (dependen) sebagai fungsi dari variabel prediktor (independen)."
   ]
  },
  {
   "cell_type": "markdown",
   "metadata": {
    "id": "ymv7PV4QPx9R"
   },
   "source": [
    "Regresi Linier, dapat dituliskan dalam bentuk fungsi sebagai berikut\n",
    "\n",
    "$$\n",
    "Y = a + b  X\n",
    "$$\n",
    "\n",
    "1. a mengacu pada intersep dari garis regresi, yang memiliki arti bahwa nilai Y ketika X adalah 0\n",
    "2. b mengacu pada kemiringan garis regresi, yang memiliki arti bahwa nilai  Y berubah ketika X bertambah sebesar 1 unit"
   ]
  },
  {
   "cell_type": "markdown",
   "metadata": {
    "id": "glpXVO9oQZS0"
   },
   "source": [
    "**B)** Pada modul ini kita akan menggunakan *library* pada *sci-kit* untuk memprediksi *dataset* menggunakan model regresi linear. Gunakan fungsi dibawah untuk *import* *library* regresi linear dari *sci-kit*\n",
    "\n",
    "\n",
    "\n",
    "```\n",
    "from sklearn.linear_model import LinearRegressione\n",
    "```\n",
    "\n"
   ]
  },
  {
   "cell_type": "code",
   "execution_count": 3,
   "metadata": {
    "id": "aTwsd6qcQu5Z"
   },
   "outputs": [],
   "source": [
    "from sklearn.linear_model import LinearRegression"
   ]
  },
  {
   "cell_type": "markdown",
   "metadata": {
    "id": "GR3SNHTrQxuh"
   },
   "source": [
    "**C)** Buatlah suatu variabel bernama lm, dan masukan fungsi dari *linear regression* yang sudah kita *import* sebelumnya"
   ]
  },
  {
   "cell_type": "code",
   "execution_count": 4,
   "metadata": {
    "id": "fKegkepNRAZB"
   },
   "outputs": [
    {
     "data": {
      "text/plain": [
       "LinearRegression()"
      ]
     },
     "execution_count": 4,
     "metadata": {},
     "output_type": "execute_result"
    }
   ],
   "source": [
    "lm = LinearRegression()\n",
    "lm"
   ]
  },
  {
   "cell_type": "markdown",
   "metadata": {
    "id": "QN0ucUkdBv4v"
   },
   "source": [
    "**D)** Pada contoh ini, kita ingin melihat bagaimana *highway-mpg* dapat membantu kita dalam memprediksi harga mobil. Dengan menggunakan regresi linier sederhana, kita akan membuat fungsi linier dengan \"highway-mpg\" sebagai variabel prediktor dan \"harga\" sebagai variabel respon.\n",
    "\n",
    "Gunakan fungsi *dataframe* pada Pandas untuk memasukan *highway-mpg* sebagai variabel independen, dan *price* sebagai variabel dependen. Simpan *highway-mpg* yang diubah oleh Pandas menjadi Pandas *dataframe* kepada variabel X, dan *price* yang diubah oleh Pandas menjadi Pandas *series* kepada variabel Y\n",
    "\n"
   ]
  },
  {
   "cell_type": "code",
   "execution_count": 5,
   "metadata": {
    "id": "nmENERyfCHE9"
   },
   "outputs": [],
   "source": [
    "X = df[['highway-mpg']]\n",
    "Y = df['price']"
   ]
  },
  {
   "cell_type": "markdown",
   "metadata": {
    "id": "nqJ4c2_mHP2W"
   },
   "source": [
    "**E)** Kemudian gunakan fungsi *fit* untuk memuat data pada model linier. Gunakan fungsi dibawah berbarengan dengan *library* regresi linear, dan variabel X dan Y\n",
    "\n",
    "\n",
    "```\n",
    "fit(X,y)\n",
    "```\n",
    "\n"
   ]
  },
  {
   "cell_type": "code",
   "execution_count": 6,
   "metadata": {
    "id": "KDhxzRlJHtKt"
   },
   "outputs": [
    {
     "data": {
      "text/plain": [
       "LinearRegression()"
      ]
     },
     "execution_count": 6,
     "metadata": {},
     "output_type": "execute_result"
    }
   ],
   "source": [
    "lm.fit(X,Y)"
   ]
  },
  {
   "cell_type": "markdown",
   "metadata": {
    "id": "2b3THZe7HllG"
   },
   "source": [
    "**F)** Gunakan fungsi *predict* pada gambar dibawah, masukan kedalam variabel Y. Pada fungsi *predict* masukan nilai X, X adalah nilai *highway-mpg* karena kita ingin mencari korelasi antara *price* dan *high-way mpg*, *highway-mpg* adalah *independent variabe* yang berperan sebagai input yang menentukan perubahan harga\n",
    "\n",
    "\n",
    "\n",
    "```\n",
    ".predict()\n",
    "```\n",
    "\n"
   ]
  },
  {
   "cell_type": "code",
   "execution_count": 13,
   "metadata": {
    "id": "WHrHNbneHkDh"
   },
   "outputs": [
    {
     "data": {
      "text/plain": [
       "array([16236.50464347, 16236.50464347, 17058.23802179, 13771.3045085 ,\n",
       "       20345.17153508])"
      ]
     },
     "execution_count": 13,
     "metadata": {},
     "output_type": "execute_result"
    }
   ],
   "source": [
    "Y=lm.predict(X)\n",
    "Y[0:5]   "
   ]
  },
  {
   "cell_type": "markdown",
   "metadata": {
    "id": "3f2DR9U6KzQa"
   },
   "source": [
    "**G)** Gunakan fungsi dibawah untuk mencari Y intercept dari regresi linear yang dihasilkan\n",
    "\n",
    "\n",
    "```\n",
    ".intercept_\n",
    "```\n",
    "\n"
   ]
  },
  {
   "cell_type": "code",
   "execution_count": 13,
   "metadata": {
    "id": "JfhnDz9AJLzW"
   },
   "outputs": [
    {
     "data": {
      "text/plain": [
       "38423.305858157386"
      ]
     },
     "execution_count": 13,
     "metadata": {},
     "output_type": "execute_result"
    }
   ],
   "source": [
    "lm.intercept_"
   ]
  },
  {
   "cell_type": "markdown",
   "metadata": {
    "id": "9nmBu-9YJQ-n"
   },
   "source": [
    "**G)** Gunakan fungsi dibawah untuk mencari koefisien dari regresi linear yang dihasilkan\n",
    "\n",
    "\n",
    "```\n",
    ".coef_\n",
    "```"
   ]
  },
  {
   "cell_type": "code",
   "execution_count": 14,
   "metadata": {
    "id": "Xp8fnmc8JREu"
   },
   "outputs": [
    {
     "data": {
      "text/plain": [
       "array([-821.73337832])"
      ]
     },
     "execution_count": 14,
     "metadata": {},
     "output_type": "execute_result"
    }
   ],
   "source": [
    "lm.coef_"
   ]
  },
  {
   "cell_type": "markdown",
   "metadata": {
    "id": "7SjnrZXNLeA6"
   },
   "source": [
    "**H)** Setelah melakukan beberapa *run* pada program-program diatas, ini adalah fungsi regresi linear yang dihasilkan dari program diatas\n",
    "\n",
    "<b>price</b> = 38423.31 - 821.73 x  <b>highway-mpg</b>\n"
   ]
  },
  {
   "cell_type": "markdown",
   "metadata": {
    "id": "5fJdh4jbMJgr"
   },
   "source": [
    "**I)** Untuk memudahkan visualisasi atas regresi linear yang dihasilkan, gunakan *library* seaborn untuk memvisualisasikan regresi linear yang dihasilkan"
   ]
  },
  {
   "cell_type": "code",
   "execution_count": 21,
   "metadata": {
    "id": "TDOcMveuMJni"
   },
   "outputs": [
    {
     "data": {
      "text/plain": [
       "(0.0, 48162.191366550185)"
      ]
     },
     "execution_count": 21,
     "metadata": {},
     "output_type": "execute_result"
    },
    {
     "data": {
      "image/png": "[encoded data removed]",
      "text/plain": [
       "<Figure size 720x720 with 1 Axes>"
      ]
     },
     "metadata": {
      "needs_background": "light"
     },
     "output_type": "display_data"
    }
   ],
   "source": [
    "import seaborn as sns\n",
    "%matplotlib inline \n",
    "\n",
    "width = 10\n",
    "height = 10\n",
    "plt.figure(figsize=(width, height))\n",
    "sns.regplot(x=\"highway-mpg\", y=\"price\", data=df)\n",
    "plt.ylim(0,)"
   ]
  },
  {
   "cell_type": "markdown",
   "metadata": {
    "id": "ZSTyO6IuMppa"
   },
   "source": [
    "# Question"
   ]
  },
  {
   "cell_type": "markdown",
   "metadata": {
    "id": "KRBeq-7FMwpW"
   },
   "source": [
    "1. Carilah regresi linear  menggunakan 'ukuran mesin' sebagai variabel bebas dan 'harga' sebagai variabel terikat"
   ]
  },
  {
   "cell_type": "code",
   "execution_count": 16,
   "metadata": {
    "id": "MFWq7tRfMxHX"
   },
   "outputs": [
    {
     "data": {
      "text/plain": [
       "array([-3458.11848261, -3458.11848261, -3624.9784983 , -2957.53843554,\n",
       "       -4292.41856107, -3791.838514  , -3791.838514  , -3791.838514  ,\n",
       "       -4626.13859245, -3124.39845123, -3124.39845123, -3291.25846692,\n",
       "       -3291.25846692, -3791.838514  , -4292.41856107, -4292.41856107,\n",
       "       -4626.13859245,   880.24192536,  -788.35823155,  -788.35823155,\n",
       "       -1122.07826293, -1622.65831001, -2957.53843554, -1622.65831001,\n",
       "       -1622.65831001, -1622.65831001, -2957.53843554, -2957.53843554,\n",
       "       -3958.69852969,  1047.10194106, -1622.65831001,  -955.21824724,\n",
       "       -2290.09837277, -2290.09837277, -2290.09837277, -2290.09837277,\n",
       "       -2456.95838846, -2456.95838846, -2456.95838846, -2456.95838846,\n",
       "       -3291.25846692, -2790.67841985, -3124.39845123, -3124.39845123,\n",
       "       -4792.99860814, -4792.99860814, -5126.71863953, -2790.67841985,\n",
       "       -1622.65831001, -1622.65831001, -1622.65831001, -1622.65831001,\n",
       "       -4125.55854538, -4125.55854538, -4125.55854538, -4125.55854538,\n",
       "       -2623.81840416, -2623.81840416, -2623.81840416, -2623.81840416,\n",
       "        -955.21824724, -2623.81840416, -3458.11848261, -1455.79829432,\n",
       "       -3791.838514  , -3791.838514  , -3791.838514  , -3791.838514  ,\n",
       "       -4959.85862384, -4959.85862384, -5293.57865522, -5293.57865522,\n",
       "       -3958.69852969, -1122.07826293, -1622.65831001, -1622.65831001,\n",
       "       -2957.53843554, -2957.53843554, -2623.81840416, -3958.69852969,\n",
       "       -3958.69852969, -3958.69852969, -2623.81840416, -2623.81840416,\n",
       "       -2957.53843554, -2957.53843554, -1789.5183257 ,   379.66187829,\n",
       "       -1789.5183257 , -1789.5183257 , -1789.5183257 , -1789.5183257 ,\n",
       "       -1789.5183257 , -1789.5183257 , -1789.5183257 , -1789.5183257 ,\n",
       "       -2290.09837277, -2290.09837277, -4292.41856107, -4292.41856107,\n",
       "       -3791.838514  , -3791.838514  , -4125.55854538, -3791.838514  ,\n",
       "       -3958.69852969, -2456.95838846, -3958.69852969, -3791.838514  ,\n",
       "       -3958.69852969, -2456.95838846, -3958.69852969, -3791.838514  ,\n",
       "       -3958.69852969, -2456.95838846, -3958.69852969, -1122.07826293,\n",
       "       -2957.53843554, -1622.65831001, -1622.65831001, -1622.65831001,\n",
       "       -2957.53843554, -3958.69852969, -3458.11848261, -3791.838514  ,\n",
       "       -3791.838514  , -3791.838514  , -2790.67841985, -2790.67841985,\n",
       "       -3291.25846692, -3291.25846692, -3291.25846692, -3291.25846692,\n",
       "       -3624.9784983 , -3624.9784983 , -1956.37834139, -2790.67841985,\n",
       "       -2790.67841985, -1789.5183257 , -2456.95838846, -2623.81840416,\n",
       "       -3791.838514  , -3124.39845123, -2623.81840416, -2790.67841985,\n",
       "       -3124.39845123, -4125.55854538, -1455.79829432, -1622.65831001,\n",
       "       -1622.65831001, -1789.5183257 , -2623.81840416, -2623.81840416,\n",
       "       -1789.5183257 , -1789.5183257 , -1956.37834139,  -120.91816878,\n",
       "        -120.91816878, -2290.09837277, -2290.09837277, -2290.09837277,\n",
       "       -2290.09837277, -3124.39845123, -3124.39845123, -2957.53843554,\n",
       "       -2957.53843554, -2957.53843554, -2957.53843554, -2957.53843554,\n",
       "       -2957.53843554, -2290.09837277, -2456.95838846, -2623.81840416,\n",
       "       -2623.81840416, -2623.81840416, -3958.69852969, -3958.69852969,\n",
       "       -3958.69852969, -3958.69852969,  -287.77818448, -2290.09837277,\n",
       "        -287.77818448, -2290.09837277, -2290.09837277,  -955.21824724,\n",
       "       -2623.81840416, -3124.39845123, -3124.39845123, -3958.69852969,\n",
       "       -1622.65831001, -2790.67841985, -3291.25846692, -3291.25846692,\n",
       "       -3291.25846692, -3291.25846692, -4292.41856107, -4292.41856107,\n",
       "       -3291.25846692, -3791.838514  , -4125.55854538, -3458.11848261,\n",
       "       -3791.838514  ])"
      ]
     },
     "execution_count": 16,
     "metadata": {},
     "output_type": "execute_result"
    }
   ],
   "source": [
    "linearRegression = LinearRegression()\n",
    "y = df[\"price\"]\n",
    "x = df[[\"engine-size\"]]\n",
    "linearRegression.fit(x,y)\n",
    "predict=linearRegression.predict(X)\n",
    "predict"
   ]
  },
  {
   "cell_type": "code",
   "execution_count": 17,
   "metadata": {
    "id": "cxzecqZrNE7Z"
   },
   "outputs": [
    {
     "data": {
      "text/plain": [
       "array([166.86001569])"
      ]
     },
     "execution_count": 17,
     "metadata": {},
     "output_type": "execute_result"
    }
   ],
   "source": [
    "linearRegression.coef_"
   ]
  },
  {
   "cell_type": "code",
   "execution_count": 18,
   "metadata": {
    "id": "ddXlxObPNFPq"
   },
   "outputs": [
    {
     "data": {
      "text/plain": [
       "-7963.338906281049"
      ]
     },
     "execution_count": 18,
     "metadata": {},
     "output_type": "execute_result"
    }
   ],
   "source": [
    "linearRegression.intercept_"
   ]
  },
  {
   "cell_type": "markdown",
   "metadata": {
    "id": "DskZuM7zMwvf"
   },
   "source": [
    "2. Gambarkan visualisasi regresi linear dari kedua variabel yang diberikan"
   ]
  },
  {
   "cell_type": "code",
   "execution_count": 20,
   "metadata": {
    "id": "OiTx6SabMxY7"
   },
   "outputs": [
    {
     "data": {
      "text/plain": [
       "(0.0, 53392.807465897786)"
      ]
     },
     "execution_count": 20,
     "metadata": {},
     "output_type": "execute_result"
    },
    {
     "data": {
      "image/png": "[encoded data removed]",
      "text/plain": [
       "<Figure size 864x720 with 1 Axes>"
      ]
     },
     "metadata": {
      "needs_background": "light"
     },
     "output_type": "display_data"
    }
   ],
   "source": [
    "import seaborn as sns\n",
    "%matplotlib inline \n",
    "\n",
    "width = 12\n",
    "height = 10\n",
    "plt.figure(figsize=(width, height))\n",
    "sns.regplot(x=\"engine-size\", y=\"price\", data=df)\n",
    "plt.ylim(0,)"
   ]
  },
  {
   "cell_type": "code",
   "execution_count": null,
   "metadata": {},
   "outputs": [],
   "source": []
  }
 ],
 "metadata": {
  "colab": {
   "authorship_tag": "ABX9TyO+b2WyV+8Ir+uZmHCUfdgs",
   "name": "Modul_5.ipynb",
   "provenance": []
  },
  "kernelspec": {
   "display_name": "Python 3",
   "language": "python",
   "name": "python3"
  },
  "language_info": {
   "codemirror_mode": {
    "name": "ipython",
    "version": 3
   },
   "file_extension": ".py",
   "mimetype": "text/x-python",
   "name": "python",
   "nbconvert_exporter": "python",
   "pygments_lexer": "ipython3",
   "version": "3.8.8"
  }
 },
 "nbformat": 4,
 "nbformat_minor": 1
}
